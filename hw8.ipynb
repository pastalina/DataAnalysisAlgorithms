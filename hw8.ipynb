{
  "nbformat": 4,
  "nbformat_minor": 0,
  "metadata": {
    "colab": {
      "name": "hw8.ipynb",
      "provenance": [],
      "collapsed_sections": []
    },
    "kernelspec": {
      "name": "python3",
      "display_name": "Python 3"
    },
    "language_info": {
      "name": "python"
    }
  },
  "cells": [
    {
      "cell_type": "markdown",
      "source": [
        "# **Домашнее задание 8**"
      ],
      "metadata": {
        "id": "UhKyo04_BgFN"
      }
    },
    {
      "cell_type": "markdown",
      "source": [
        "1. Обучить любую модель классификации на датасете IRIS до применения PCA (2 компоненты) и после него. Сравнить качество классификации по отложенной выборке."
      ],
      "metadata": {
        "id": "R6AdMk8pmi0_"
      }
    },
    {
      "cell_type": "code",
      "source": [
        "from sklearn import neighbors\n",
        "import numpy as np\n",
        "from sklearn import datasets\n",
        "import matplotlib.pyplot as plt\n",
        "from sklearn.model_selection import train_test_split\n",
        "from sklearn.ensemble import RandomForestClassifier\n",
        "from sklearn.metrics import accuracy_score\n",
        "from sklearn.neighbors import KNeighborsClassifier"
      ],
      "metadata": {
        "id": "_fKqKKGO65t_"
      },
      "execution_count": 110,
      "outputs": []
    },
    {
      "cell_type": "code",
      "execution_count": 111,
      "metadata": {
        "id": "m3d93Gx2dfJ6",
        "outputId": "9324948a-d8af-4fca-9923-4d27ca1d36e4",
        "colab": {
          "base_uri": "https://localhost:8080/"
        }
      },
      "outputs": [
        {
          "output_type": "execute_result",
          "data": {
            "text/plain": [
              "((150, 4), (150,))"
            ]
          },
          "metadata": {},
          "execution_count": 111
        }
      ],
      "source": [
        "# Загрузим игрушечный датасет из sklearn\n",
        "iris = datasets.load_iris()\n",
        "X = iris.data\n",
        "y = iris.target\n",
        "X.shape, y.shape"
      ]
    },
    {
      "cell_type": "code",
      "source": [
        "def standard_scale(x):\n",
        "    res = (x - x.mean(axis=0)) / x.std(axis=0)\n",
        "    return res"
      ],
      "metadata": {
        "id": "mpBmD-pu7C9i"
      },
      "execution_count": 112,
      "outputs": []
    },
    {
      "cell_type": "code",
      "execution_count": 113,
      "metadata": {
        "id": "LreoyuZQnUnL"
      },
      "outputs": [],
      "source": [
        "# Для начала отмасштабируем выборку\n",
        "X = X.astype(float)\n",
        "\n",
        "X = standard_scale(X)"
      ]
    },
    {
      "cell_type": "code",
      "execution_count": 114,
      "metadata": {
        "id": "5AgNd-fLnUnL",
        "outputId": "9ccfc91b-f227-42c9-8f72-e8309a7282ba",
        "colab": {
          "base_uri": "https://localhost:8080/"
        }
      },
      "outputs": [
        {
          "output_type": "execute_result",
          "data": {
            "text/plain": [
              "array([[-0.90068117,  1.01900435, -1.34022653, -1.3154443 ],\n",
              "       [-1.14301691, -0.13197948, -1.34022653, -1.3154443 ],\n",
              "       [-1.38535265,  0.32841405, -1.39706395, -1.3154443 ],\n",
              "       [-1.50652052,  0.09821729, -1.2833891 , -1.3154443 ],\n",
              "       [-1.02184904,  1.24920112, -1.34022653, -1.3154443 ],\n",
              "       [-0.53717756,  1.93979142, -1.16971425, -1.05217993],\n",
              "       [-1.50652052,  0.78880759, -1.34022653, -1.18381211],\n",
              "       [-1.02184904,  0.78880759, -1.2833891 , -1.3154443 ],\n",
              "       [-1.74885626, -0.36217625, -1.34022653, -1.3154443 ],\n",
              "       [-1.14301691,  0.09821729, -1.2833891 , -1.44707648]])"
            ]
          },
          "metadata": {},
          "execution_count": 114
        }
      ],
      "source": [
        "X[:10]"
      ]
    },
    {
      "cell_type": "code",
      "execution_count": 115,
      "metadata": {
        "id": "ItFOmLW9dfKB",
        "outputId": "a48ee815-74b6-46e2-83e5-d4eed47500e4",
        "colab": {
          "base_uri": "https://localhost:8080/"
        }
      },
      "outputs": [
        {
          "output_type": "stream",
          "name": "stdout",
          "text": [
            "Собственные значения и собственные векторы в порядке убывания:\n",
            "(437.77467247979934, array([ 0.52106591, -0.26934744,  0.5804131 ,  0.56485654]))\n",
            "(137.10457072021043, array([-0.37741762, -0.92329566, -0.02449161, -0.06694199]))\n",
            "(22.01353133569724, array([-0.71956635,  0.24438178,  0.14212637,  0.63427274]))\n",
            "(3.107225464292861, array([ 0.26128628, -0.12350962, -0.80144925,  0.52359713]))\n"
          ]
        }
      ],
      "source": [
        "# Найдем собственные векторы и собственные значения\n",
        " \n",
        "covariance_matrix = X.T @ X\n",
        "\n",
        "eig_values, eig_vectors = np.linalg.eig(covariance_matrix)\n",
        "\n",
        "# сформируем список кортежей (собственное значение, собственный вектор)\n",
        "eig_pairs = [(np.abs(eig_values[i]), eig_vectors[:, i]) for i in range(len(eig_values))]\n",
        "\n",
        "# и отсортируем список по убыванию собственных значений\n",
        "eig_pairs.sort(key=lambda x: x[0], reverse=True)\n",
        "\n",
        "print('Собственные значения и собственные векторы в порядке убывания:')\n",
        "for i in eig_pairs:\n",
        "    print(i)"
      ]
    },
    {
      "cell_type": "code",
      "execution_count": 116,
      "metadata": {
        "id": "Ct-1I70mdfKE",
        "outputId": "5ab154e5-0fdc-45ef-bae2-caf5fb1c6865",
        "colab": {
          "base_uri": "https://localhost:8080/"
        }
      },
      "outputs": [
        {
          "output_type": "stream",
          "name": "stdout",
          "text": [
            "Доля дисперсии, описываемая каждой из компонент \n",
            "[72.9624454132999, 22.850761786701742, 3.6689218892828745, 0.517870910715477]\n",
            "Кумулятивная доля дисперсии по компонентам \n",
            "[ 72.96244541  95.8132072   99.48212909 100.        ]\n"
          ]
        }
      ],
      "source": [
        "eig_sum = sum(eig_values)\n",
        "var_exp = [(i / eig_sum) * 100 for i in sorted(eig_values, reverse=True)]\n",
        "cum_var_exp = np.cumsum(var_exp)\n",
        "print(f'Доля дисперсии, описываемая каждой из компонент \\n{var_exp}')\n",
        "\n",
        "# а теперь оценим кумулятивную (то есть накапливаемую) дисперсию при учитывании каждой из компонент\n",
        "print(f'Кумулятивная доля дисперсии по компонентам \\n{cum_var_exp}')"
      ]
    },
    {
      "cell_type": "code",
      "execution_count": 117,
      "metadata": {
        "id": "z4xcGvf7dfKI",
        "outputId": "e06631ef-5f53-4c0f-8e97-d452b3e2aa7d",
        "colab": {
          "base_uri": "https://localhost:8080/"
        }
      },
      "outputs": [
        {
          "output_type": "stream",
          "name": "stdout",
          "text": [
            "Матрица весов W:\n",
            " [[ 0.52106591 -0.37741762]\n",
            " [-0.26934744 -0.92329566]\n",
            " [ 0.5804131  -0.02449161]\n",
            " [ 0.56485654 -0.06694199]]\n"
          ]
        }
      ],
      "source": [
        "# Сформируем вектор весов из собственных векторов, соответствующих первым двум главным компонентам\n",
        "W = np.hstack([eig_pairs[i][1].reshape(4,1) for i in range(2)])\n",
        "\n",
        "print(f'Матрица весов W:\\n', W)"
      ]
    },
    {
      "cell_type": "code",
      "execution_count": 118,
      "metadata": {
        "id": "n04tyd6xdfKL",
        "colab": {
          "base_uri": "https://localhost:8080/"
        },
        "outputId": "973703dd-f18b-4dc9-f1d3-ddf2e8034cdc"
      },
      "outputs": [
        {
          "output_type": "execute_result",
          "data": {
            "text/plain": [
              "array([[-2.26470281, -0.4800266 ],\n",
              "       [-2.08096115,  0.67413356],\n",
              "       [-2.36422905,  0.34190802],\n",
              "       [-2.29938422,  0.59739451],\n",
              "       [-2.38984217, -0.64683538],\n",
              "       [-2.07563095, -1.48917752],\n",
              "       [-2.44402884, -0.0476442 ],\n",
              "       [-2.23284716, -0.22314807],\n",
              "       [-2.33464048,  1.11532768],\n",
              "       [-2.18432817,  0.46901356]])"
            ]
          },
          "metadata": {},
          "execution_count": 118
        }
      ],
      "source": [
        "# Сформируем новую матрицу \"объекты-признаки\"\n",
        "Z = X.dot(W)\n",
        "Z[:10]"
      ]
    },
    {
      "cell_type": "code",
      "source": [
        "X_train, X_test, y_train, y_test = train_test_split(X, y,\n",
        "                                                    test_size=0.2,\n",
        "                                                    random_state=1,\n",
        "                                                    stratify=y)\n",
        "X_train.shape, X_test.shape"
      ],
      "metadata": {
        "colab": {
          "base_uri": "https://localhost:8080/"
        },
        "id": "fOB-7JgTEw5O",
        "outputId": "e0ac7005-7f83-4cae-8d82-b7af41b376a7"
      },
      "execution_count": 119,
      "outputs": [
        {
          "output_type": "execute_result",
          "data": {
            "text/plain": [
              "((120, 4), (30, 4))"
            ]
          },
          "metadata": {},
          "execution_count": 119
        }
      ]
    },
    {
      "cell_type": "code",
      "source": [
        "Z_train, Z_test, zy_train, zy_test = train_test_split(Z, y,\n",
        "                                                    test_size=0.2,\n",
        "                                                    random_state=1,\n",
        "                                                    stratify=y)\n",
        "Z_train.shape, Z_test.shape"
      ],
      "metadata": {
        "colab": {
          "base_uri": "https://localhost:8080/"
        },
        "outputId": "5c39e120-3cfd-46d3-aa1d-dbffa9386242",
        "id": "gpTB1TFGNE-Q"
      },
      "execution_count": 120,
      "outputs": [
        {
          "output_type": "execute_result",
          "data": {
            "text/plain": [
              "((120, 2), (30, 2))"
            ]
          },
          "metadata": {},
          "execution_count": 120
        }
      ]
    },
    {
      "cell_type": "code",
      "source": [
        "#Обучим модель случайного леса на исходных данных:\n",
        "clf = RandomForestClassifier(max_depth=3, random_state=42)\n",
        "clf.fit(X_train, y_train)\n",
        "y_pred = clf.predict(X_test)\n",
        "\n",
        "accuracy_score(y_test, y_pred)"
      ],
      "metadata": {
        "colab": {
          "base_uri": "https://localhost:8080/"
        },
        "id": "Go2Ir4oJFByR",
        "outputId": "b4e95cde-e924-47ef-c78e-aa2dd7bc1473"
      },
      "execution_count": 121,
      "outputs": [
        {
          "output_type": "execute_result",
          "data": {
            "text/plain": [
              "0.9666666666666667"
            ]
          },
          "metadata": {},
          "execution_count": 121
        }
      ]
    },
    {
      "cell_type": "code",
      "source": [
        "#Обучим модель случайного леса на данных после PCA:\n",
        "clf = RandomForestClassifier(max_depth=3, random_state=42)\n",
        "clf.fit(Z_train, zy_train)\n",
        "zy_pred = clf.predict(Z_test)\n",
        "\n",
        "accuracy_score(zy_test, zy_pred)"
      ],
      "metadata": {
        "colab": {
          "base_uri": "https://localhost:8080/"
        },
        "outputId": "deb524f3-5d66-4224-b292-69cc61ff55de",
        "id": "IRJ6Wp0aG3A_"
      },
      "execution_count": 122,
      "outputs": [
        {
          "output_type": "execute_result",
          "data": {
            "text/plain": [
              "0.8333333333333334"
            ]
          },
          "metadata": {},
          "execution_count": 122
        }
      ]
    }
  ]
}