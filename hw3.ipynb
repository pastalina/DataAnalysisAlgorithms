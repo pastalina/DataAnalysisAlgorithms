{
  "nbformat": 4,
  "nbformat_minor": 0,
  "metadata": {
    "colab": {
      "name": "hw3.ipynb",
      "provenance": [],
      "collapsed_sections": []
    },
    "kernelspec": {
      "name": "python3",
      "display_name": "Python 3"
    },
    "language_info": {
      "name": "python"
    }
  },
  "cells": [
    {
      "cell_type": "markdown",
      "source": [
        "# **Домашнее задание 3**"
      ],
      "metadata": {
        "id": "PFnVUhITMGEB"
      }
    },
    {
      "cell_type": "markdown",
      "source": [
        "2. Подберите аргументы функции eval_model для логистической регрессии таким образом, чтобы log loss был минимальным."
      ],
      "metadata": {
        "id": "Uyw2qSOCMN5a"
      }
    },
    {
      "cell_type": "code",
      "execution_count": 240,
      "metadata": {
        "id": "cjb9Fg1DLIB4"
      },
      "outputs": [],
      "source": [
        "import numpy as np\n",
        "import matplotlib.pyplot as plt"
      ]
    },
    {
      "cell_type": "code",
      "source": [
        "X = np.array([ [   1,    1,  500,    1],\n",
        "               [   1,    1,  700,    1],\n",
        "               [   1,    2,  750,    2],\n",
        "               [   1,    5,  600,    1],\n",
        "               [   1,    3, 1450,    2],\n",
        "               [   1,    0,  800,    1],\n",
        "               [   1,    5, 1500,    3],\n",
        "               [   1,   10, 2000,    3],\n",
        "               [   1,    1,  450,    1],\n",
        "               [   1,    2, 1000,    2]], dtype=np.float64)\n",
        "\n",
        "y = np.array([0, 0, 1, 0, 1, 0, 1, 0, 1, 1], dtype=np.float64)"
      ],
      "metadata": {
        "id": "9c-zhvJ4Mm2d"
      },
      "execution_count": 241,
      "outputs": []
    },
    {
      "cell_type": "code",
      "source": [
        "def standard_scale(x):\n",
        "    res = (x - x.mean()) / x.std()\n",
        "    return res"
      ],
      "metadata": {
        "id": "3ZvpNR1BMtdv"
      },
      "execution_count": 242,
      "outputs": []
    },
    {
      "cell_type": "code",
      "source": [
        "X_st = X.copy()\n",
        "X_st[:, 1] = standard_scale(X[:, 1])\n",
        "X_st[:, 2] = standard_scale(X[:, 2])\n",
        "X_st[:, 3] = standard_scale(X[:, 3])\n",
        "X_st"
      ],
      "metadata": {
        "colab": {
          "base_uri": "https://localhost:8080/"
        },
        "id": "HvJEkqWKMx52",
        "outputId": "d578158c-460e-4dd4-effb-d2c0379d902b"
      },
      "execution_count": 243,
      "outputs": [
        {
          "output_type": "execute_result",
          "data": {
            "text/plain": [
              "array([[ 1.        , -0.70710678, -0.97958969, -0.89625816],\n",
              "       [ 1.        , -0.70710678, -0.56713087, -0.89625816],\n",
              "       [ 1.        , -0.35355339, -0.46401617,  0.38411064],\n",
              "       [ 1.        ,  0.70710678, -0.77336028, -0.89625816],\n",
              "       [ 1.        ,  0.        ,  0.97958969,  0.38411064],\n",
              "       [ 1.        , -1.06066017, -0.36090146, -0.89625816],\n",
              "       [ 1.        ,  0.70710678,  1.08270439,  1.66447944],\n",
              "       [ 1.        ,  2.47487373,  2.11385144,  1.66447944],\n",
              "       [ 1.        , -0.70710678, -1.08270439, -0.89625816],\n",
              "       [ 1.        , -0.35355339,  0.05155735,  0.38411064]])"
            ]
          },
          "metadata": {},
          "execution_count": 243
        }
      ]
    },
    {
      "cell_type": "code",
      "source": [
        "def calc_logloss(y, y_pred):\n",
        "    err = - np.mean(y * np.log(y_pred) + (1.0 - y) * np.log(1.0 - y_pred))\n",
        "    return err"
      ],
      "metadata": {
        "id": "uAA0CMdfNIus"
      },
      "execution_count": 244,
      "outputs": []
    },
    {
      "cell_type": "code",
      "source": [
        "def sigmoid(z):\n",
        "    res = 1 / (1 + np.exp(-z))\n",
        "    return res"
      ],
      "metadata": {
        "id": "PslAcq1JNhev"
      },
      "execution_count": 246,
      "outputs": []
    },
    {
      "cell_type": "code",
      "source": [
        "def eval_model(X, y, iterations, eta=1e-4):\n",
        "    np.random.seed(42)\n",
        "    W = np.random.randn(X.shape[1])\n",
        "    n = X.shape[0]\n",
        "    \n",
        "    for i in range(iterations):\n",
        "        z = np.dot(X, W)\n",
        "        y_pred = sigmoid(z)\n",
        "        err = calc_logloss(y, y_pred)\n",
        "        \n",
        "        dQ = 1/n * X.T @ (y_pred - y)\n",
        "        W -= eta * dQ\n",
        "        if i % (iterations / 10) == 0:\n",
        "            print(i, W, err)\n",
        "    return W"
      ],
      "metadata": {
        "id": "NNb_Hp9bNsL3"
      },
      "execution_count": 247,
      "outputs": []
    },
    {
      "cell_type": "code",
      "source": [
        "W = eval_model(X_st, y, iterations=950, eta=10)"
      ],
      "metadata": {
        "colab": {
          "base_uri": "https://localhost:8080/"
        },
        "id": "fP-eUPrTNud0",
        "outputId": "b214b4eb-f662-4248-81f2-5246949c5baf"
      },
      "execution_count": 248,
      "outputs": [
        {
          "output_type": "stream",
          "name": "stdout",
          "text": [
            "0 [ 0.14172249 -2.84645945 -1.68657857  0.27823209] 0.760958797591889\n",
            "95 [ 1.26075969 -6.80139995 -5.6257483  15.3762271 ] 0.21461297023068635\n",
            "190 [ 2.90690328 -8.85101299 -8.42640769 19.40670778] 0.13293094891148885\n",
            "285 [ 3.31504959 -9.78228813 -9.56439599 22.46116084] 0.11124466310787066\n",
            "380 [  3.69066563 -10.69938068 -10.63186666  24.80480918] 0.10318963231969572\n",
            "475 [  4.00951747 -11.47782288 -11.56344019  26.83100526] 0.09718922929874763\n",
            "570 [  4.29035903 -12.1580876  -12.4045127   28.63843887] 0.09242381465270552\n",
            "665 [  4.54395213 -12.76508529 -13.1813141   30.28694581] 0.08846496267351303\n",
            "760 [  4.77717079 -13.31523188 -13.91046539  31.81515229] 0.08506604007106874\n",
            "855 [  4.9946504  -13.81998375 -14.6029829   33.24927063] 0.08207466500687673\n"
          ]
        }
      ]
    },
    {
      "cell_type": "markdown",
      "source": [
        "3. Создайте функцию calc_pred_proba, возвращающую предсказанную вероятность класса 1 (на вход подаются W, который уже посчитан функцией eval_model и X, на выходе - массив y_pred_proba)."
      ],
      "metadata": {
        "id": "yYju8LTAh4xF"
      }
    },
    {
      "cell_type": "code",
      "source": [
        "def calc_pred_proba(w, X):\n",
        "    y_pred_proba = sigmoid(np.dot(X, w))\n",
        "    return y_pred_proba"
      ],
      "metadata": {
        "id": "1kXcjtiWVfwI"
      },
      "execution_count": 250,
      "outputs": []
    },
    {
      "cell_type": "code",
      "source": [
        "y_pred_proba = calc_pred_proba(W, X_st)\n",
        "y_pred_proba"
      ],
      "metadata": {
        "colab": {
          "base_uri": "https://localhost:8080/"
        },
        "id": "OR-CdSCAmoja",
        "outputId": "7aadaffa-bb61-4fbb-86f1-26c94501cee9"
      },
      "execution_count": 251,
      "outputs": [
        {
          "output_type": "execute_result",
          "data": {
            "text/plain": [
              "array([3.18695118e-01, 8.63452878e-04, 1.00000000e+00, 3.39579389e-11,\n",
              "       9.71730700e-01, 5.76089834e-03, 1.00000000e+00, 7.94920669e-03,\n",
              "       6.92899115e-01, 1.00000000e+00])"
            ]
          },
          "metadata": {},
          "execution_count": 251
        }
      ]
    },
    {
      "cell_type": "markdown",
      "source": [
        "4. Создайте функцию calc_pred, возвращающую предсказанный класс (на вход подаются W, который уже посчитан функцией eval_model и X, на выходе - массив y_pred)."
      ],
      "metadata": {
        "id": "poAiNT-E6_PV"
      }
    },
    {
      "cell_type": "code",
      "source": [
        "def calc_pred(w, X):\n",
        "    y_pred = sigmoid(np.dot(X, w))\n",
        "\n",
        "    for i in range(y_pred.shape[0]):\n",
        "        if (y_pred[i] > 0.5): \n",
        "            y_pred[i] = 1\n",
        "        elif (y_pred[i] <= 0.5):\n",
        "            y_pred[i] = 0\n",
        "\n",
        "    return y_pred"
      ],
      "metadata": {
        "id": "4huRc1l97CTt"
      },
      "execution_count": 252,
      "outputs": []
    },
    {
      "cell_type": "code",
      "source": [
        "y_pred = calc_pred(W, X_st)\n",
        "y_pred"
      ],
      "metadata": {
        "colab": {
          "base_uri": "https://localhost:8080/"
        },
        "id": "QjwYmJbE7sgw",
        "outputId": "26482629-9df2-41c1-84da-8b17fdcdb59b"
      },
      "execution_count": 253,
      "outputs": [
        {
          "output_type": "execute_result",
          "data": {
            "text/plain": [
              "array([0., 0., 1., 0., 1., 0., 1., 0., 1., 1.])"
            ]
          },
          "metadata": {},
          "execution_count": 253
        }
      ]
    },
    {
      "cell_type": "markdown",
      "source": [
        "6. Могла ли модель переобучиться? Почему?"
      ],
      "metadata": {
        "id": "cb2Gmx5V8MXs"
      }
    },
    {
      "cell_type": "code",
      "source": [
        "W"
      ],
      "metadata": {
        "colab": {
          "base_uri": "https://localhost:8080/"
        },
        "id": "Ru3_tiDYscA6",
        "outputId": "6a472280-2c51-4593-93f7-c981f1dfe976"
      },
      "execution_count": 254,
      "outputs": [
        {
          "output_type": "execute_result",
          "data": {
            "text/plain": [
              "array([  5.1975413 , -14.28296106, -15.25954145,  34.59380989])"
            ]
          },
          "metadata": {},
          "execution_count": 254
        }
      ]
    },
    {
      "cell_type": "markdown",
      "source": [
        "Могла, при чрезмерном обучении и уменьшении logloss"
      ],
      "metadata": {
        "id": "MRczTKbH8QVI"
      }
    }
  ]
}