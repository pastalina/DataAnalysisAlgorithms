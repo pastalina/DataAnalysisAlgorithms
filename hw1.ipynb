{
  "nbformat": 4,
  "nbformat_minor": 0,
  "metadata": {
    "colab": {
      "name": "hw1.ipynb",
      "provenance": [],
      "collapsed_sections": []
    },
    "kernelspec": {
      "name": "python3",
      "display_name": "Python 3"
    },
    "language_info": {
      "name": "python"
    }
  },
  "cells": [
    {
      "cell_type": "markdown",
      "source": [
        "# **Домашнее задание 1**"
      ],
      "metadata": {
        "id": "qFWvgFgOb5M6"
      }
    },
    {
      "cell_type": "code",
      "execution_count": 80,
      "metadata": {
        "id": "bJ1KA9cq9INW"
      },
      "outputs": [],
      "source": [
        "import numpy as np\n",
        "import matplotlib.pyplot as plt\n",
        "from mpl_toolkits.mplot3d.axes3d import Axes3D"
      ]
    },
    {
      "cell_type": "markdown",
      "metadata": {
        "id": "xm0FUgkieHI8"
      },
      "source": [
        "__Задача:__ предсказание баллов ЕГЭ ученика в зависимости от кол-ва лет стажа его репетитора"
      ]
    },
    {
      "cell_type": "code",
      "execution_count": 81,
      "metadata": {
        "id": "i77tZbAd5plB"
      },
      "outputs": [],
      "source": [
        "X = np.array([[ 1,  1],\n",
        "              [ 1,  1],\n",
        "              [ 1,  2],\n",
        "              [ 1,  5],\n",
        "              [ 1,  3],\n",
        "              [ 1,  0],\n",
        "              [ 1,  5],\n",
        "              [ 1, 10],\n",
        "              [ 1,  1],\n",
        "              [ 1,  2]])"
      ]
    },
    {
      "cell_type": "code",
      "execution_count": 82,
      "metadata": {
        "id": "VsNrKi1Q6Wmh"
      },
      "outputs": [],
      "source": [
        "y = [45, 55, 50, 55, 60, 35, 75, 80, 50, 60]"
      ]
    },
    {
      "cell_type": "code",
      "execution_count": 83,
      "metadata": {
        "id": "JTSC2cFnCd8T"
      },
      "outputs": [],
      "source": [
        "def calc_mae(y, y_pred):\n",
        "    err = np.mean(np.abs(y - y_pred))\n",
        "    return err\n",
        "\n",
        "def calc_mse(y, y_pred):\n",
        "    err = np.mean((y - y_pred)**2)\n",
        "    return err"
      ]
    },
    {
      "cell_type": "markdown",
      "metadata": {
        "id": "huXrhXQsZTMt"
      },
      "source": [
        "1. Подберите скорость обучения (eta) и количество итераций"
      ]
    },
    {
      "cell_type": "code",
      "execution_count": 34,
      "metadata": {
        "colab": {
          "base_uri": "https://localhost:8080/"
        },
        "id": "IDB22MQKMYaJ",
        "outputId": "c5662464-f8ac-45f8-8cfa-43bec49268a9"
      },
      "outputs": [
        {
          "output_type": "stream",
          "name": "stdout",
          "text": [
            "Number of objects = 10        \n",
            "Learning rate = 0.1        \n",
            "Initial weights = [1.  0.5] \n",
            "\n",
            "Iteration #0: W_new = [11.8 38.2], MSE = 3047.75\n",
            "Iteration #10: W_new = [12651.73553914 69617.0969639 ], MSE = 18310954068.05\n",
            "Iteration #20: W_new = [ 7732434.81888022 42641607.3785219 ], MSE = 9128819654907584.0\n",
            "Iteration #30: W_new = [1.06344502e+09 5.86454589e+09], MSE = 2.327920364266856e+20\n",
            "Iteration #40: W_new = [3.00127077e+10 1.65510116e+11], MSE = 2.5451335298159506e+23\n",
            "Iteration #50: W_new = [1.55345341e+11 8.56677968e+11], MSE = 9.57229562050015e+24\n",
            "Iteration #60: W_new = [1.27742291e+11 7.04456313e+11], MSE = 9.351480126476032e+24\n",
            "Iteration #70: W_new = [1.38141953e+10 7.61806995e+10], MSE = 1.6408589528283956e+23\n",
            "Iteration #80: W_new = [1.51674189e+08 8.36432543e+08], MSE = 3.125533537874477e+19\n",
            "Iteration #90: W_new = [116395.49979888 641638.79865787], MSE = 31317286806394.44\n",
            "Iteration #100: W_new = [48.41960685 22.99884954], MSE = 53518.86\n",
            "Iteration #110: W_new = [44.97711882  3.8279907 ], MSE = 43.97\n",
            "Iteration #120: W_new = [44.99892325  3.82402866], MSE = 43.97\n",
            "Iteration #130: W_new = [45.01385621  3.8213208 ], MSE = 43.97\n",
            "Iteration #140: W_new = [45.02435338  3.8194173 ], MSE = 43.97\n",
            "Iteration #150: W_new = [45.03190934  3.81804715], MSE = 43.97\n",
            "Iteration #160: W_new = [45.03746631  3.81703947], MSE = 43.97\n",
            "Iteration #170: W_new = [45.04163356  3.81628381], MSE = 43.97\n",
            "Iteration #180: W_new = [45.04481438  3.81570702], MSE = 43.97\n",
            "Iteration #190: W_new = [45.04728151  3.81525964], MSE = 43.97\n",
            "Iteration #200: W_new = [45.04922315  3.81490755], MSE = 43.97\n",
            "Iteration #210: W_new = [45.05077154  3.81462677], MSE = 43.97\n",
            "Iteration #220: W_new = [45.05202123  3.81440016], MSE = 43.97\n",
            "Iteration #230: W_new = [45.05304088  3.81421527], MSE = 43.97\n",
            "Iteration #240: W_new = [45.0538811  3.8140629], MSE = 43.97\n",
            "Iteration #250: W_new = [45.05457971  3.81393622], MSE = 43.97\n",
            "Iteration #260: W_new = [45.05516533  3.81383003], MSE = 43.97\n",
            "Iteration #270: W_new = [45.05565988  3.81374035], MSE = 43.97\n",
            "Iteration #280: W_new = [45.05608035  3.8136641 ], MSE = 43.97\n",
            "Iteration #290: W_new = [45.05644002  3.81359888], MSE = 43.97\n",
            "Iteration #300: W_new = [45.0567494   3.81354278], MSE = 43.97\n",
            "Iteration #310: W_new = [45.05701686  3.81349428], MSE = 43.97\n",
            "Iteration #320: W_new = [45.05724915  3.81345216], MSE = 43.97\n",
            "Iteration #330: W_new = [45.05745174  3.81341543], MSE = 43.97\n",
            "Iteration #340: W_new = [45.05762908  3.81338327], MSE = 43.97\n",
            "Iteration #350: W_new = [45.05778486  3.81335502], MSE = 43.97\n",
            "Iteration #360: W_new = [45.05792214  3.81333012], MSE = 43.97\n",
            "Iteration #370: W_new = [45.05804345  3.81330813], MSE = 43.97\n",
            "Iteration #380: W_new = [45.05815092  3.81328864], MSE = 43.97\n",
            "Iteration #390: W_new = [45.05824636  3.81327133], MSE = 43.97\n",
            "Iteration #400: W_new = [45.0583313   3.81325593], MSE = 43.97\n",
            "Iteration #410: W_new = [45.05840704  3.81324219], MSE = 43.97\n",
            "Iteration #420: W_new = [45.05847469  3.81322993], MSE = 43.97\n",
            "Iteration #430: W_new = [45.05853522  3.81321895], MSE = 43.97\n",
            "Iteration #440: W_new = [45.05858945  3.81320912], MSE = 43.97\n",
            "Iteration #450: W_new = [45.05863811  3.8132003 ], MSE = 43.97\n",
            "Iteration #460: W_new = [45.05868181  3.81319237], MSE = 43.97\n",
            "Iteration #470: W_new = [45.05872111  3.81318524], MSE = 43.97\n",
            "Iteration #480: W_new = [45.05875648  3.81317883], MSE = 43.97\n",
            "Iteration #490: W_new = [45.05878835  3.81317305], MSE = 43.97\n"
          ]
        }
      ],
      "source": [
        "n = X.shape[0]\n",
        "\n",
        "eta = 0.1       #ПОМЕНЯЛА ШАГ С 0.01 НА 0.1\n",
        "n_iter = 500    #ПОМЕНЯЛА КОЛИЧЕСТВО ИТЕРАЦИЙ С 100 НА 500\n",
        "\n",
        "W = np.array([1, 0.5])\n",
        "print(f'Number of objects = {n} \\\n",
        "       \\nLearning rate = {eta} \\\n",
        "       \\nInitial weights = {W} \\n')\n",
        "\n",
        "for i in range(n_iter):\n",
        "    y_pred = np.dot(X, W)\n",
        "    err = calc_mse(y, y_pred)\n",
        "    for k in range(W.shape[0]):\n",
        "        W[k] -= eta * (1/n * 2 * X[:, k] @ (y_pred - y))\n",
        "    if i % 10 == 0:\n",
        "        eta /= 1.1\n",
        "        print(f'Iteration #{i}: W_new = {W}, MSE = {round(err, 2)}')"
      ]
    },
    {
      "cell_type": "markdown",
      "metadata": {
        "id": "5Qu1o4JhZYwI"
      },
      "source": [
        "2*. В этом коде мы избавляемся от итераций по весам, но тут есть ошибка, исправьте ее"
      ]
    },
    {
      "cell_type": "code",
      "execution_count": 84,
      "metadata": {
        "colab": {
          "base_uri": "https://localhost:8080/"
        },
        "id": "aeIfShrYeHJB",
        "outputId": "d1f13203-73ce-4f9a-d31b-3cbb8889a8fd"
      },
      "outputs": [
        {
          "output_type": "stream",
          "name": "stdout",
          "text": [
            "Number of objects = 10        \n",
            "Learning rate = 0.1        \n",
            "Initial weights = [1.  0.5] \n",
            "\n",
            "Iteration #0: W_new = [11.8 38.2], MSE = 3047.75\n",
            "Iteration #10: W_new = [12651.73553914 69617.0969639 ], MSE = 18310954068.05\n",
            "Iteration #20: W_new = [ 7732434.81888021 42641607.37852184], MSE = 9128819654907564.0\n",
            "Iteration #30: W_new = [1.06344502e+09 5.86454589e+09], MSE = 2.3279203642668532e+20\n",
            "Iteration #40: W_new = [3.00127077e+10 1.65510116e+11], MSE = 2.5451335298159486e+23\n",
            "Iteration #50: W_new = [1.55345341e+11 8.56677968e+11], MSE = 9.572295620500115e+24\n",
            "Iteration #60: W_new = [1.27742291e+11 7.04456313e+11], MSE = 9.351480126476023e+24\n",
            "Iteration #70: W_new = [1.38141953e+10 7.61806995e+10], MSE = 1.6408589528284003e+23\n",
            "Iteration #80: W_new = [1.51674189e+08 8.36432543e+08], MSE = 3.125533537874483e+19\n",
            "Iteration #90: W_new = [116395.49987349 641638.79864435], MSE = 31317286806394.8\n",
            "Iteration #100: W_new = [48.41965902 22.99884008], MSE = 53518.86\n",
            "Iteration #110: W_new = [44.97715651  3.82798386], MSE = 43.97\n",
            "Iteration #120: W_new = [44.99895132  3.82402357], MSE = 43.97\n",
            "Iteration #130: W_new = [45.01387769  3.82131691], MSE = 43.97\n",
            "Iteration #140: W_new = [45.02437022  3.81941425], MSE = 43.97\n",
            "Iteration #150: W_new = [45.03192284  3.8180447 ], MSE = 43.97\n",
            "Iteration #160: W_new = [45.03747736  3.81703747], MSE = 43.97\n",
            "Iteration #170: W_new = [45.04164277  3.81628214], MSE = 43.97\n",
            "Iteration #180: W_new = [45.04482218  3.8157056 ], MSE = 43.97\n",
            "Iteration #190: W_new = [45.04728823  3.81525842], MSE = 43.97\n",
            "Iteration #200: W_new = [45.04922901  3.81490649], MSE = 43.97\n",
            "Iteration #210: W_new = [45.05077672  3.81462584], MSE = 43.97\n",
            "Iteration #220: W_new = [45.05202586  3.81439932], MSE = 43.97\n",
            "Iteration #230: W_new = [45.05304506  3.81421451], MSE = 43.97\n",
            "Iteration #240: W_new = [45.0538849   3.81406221], MSE = 43.97\n",
            "Iteration #250: W_new = [45.05458321  3.81393559], MSE = 43.97\n",
            "Iteration #260: W_new = [45.05516857  3.81382944], MSE = 43.97\n",
            "Iteration #270: W_new = [45.0556629  3.8137398], MSE = 43.97\n",
            "Iteration #280: W_new = [45.05608319  3.81366359], MSE = 43.97\n",
            "Iteration #290: W_new = [45.0564427  3.8135984], MSE = 43.97\n",
            "Iteration #300: W_new = [45.05675194  3.81354232], MSE = 43.97\n",
            "Iteration #310: W_new = [45.05701929  3.81349384], MSE = 43.97\n",
            "Iteration #320: W_new = [45.05725147  3.81345174], MSE = 43.97\n",
            "Iteration #330: W_new = [45.05745396  3.81341502], MSE = 43.97\n",
            "Iteration #340: W_new = [45.05763123  3.81338288], MSE = 43.97\n",
            "Iteration #350: W_new = [45.05778695  3.81335464], MSE = 43.97\n",
            "Iteration #360: W_new = [45.05792416  3.81332976], MSE = 43.97\n",
            "Iteration #370: W_new = [45.05804541  3.81330777], MSE = 43.97\n",
            "Iteration #380: W_new = [45.05815284  3.81328829], MSE = 43.97\n",
            "Iteration #390: W_new = [45.05824824  3.81327099], MSE = 43.97\n",
            "Iteration #400: W_new = [45.05833314  3.8132556 ], MSE = 43.97\n",
            "Iteration #410: W_new = [45.05840885  3.81324187], MSE = 43.97\n",
            "Iteration #420: W_new = [45.05847647  3.8132296 ], MSE = 43.97\n",
            "Iteration #430: W_new = [45.05853697  3.81321863], MSE = 43.97\n",
            "Iteration #440: W_new = [45.05859118  3.8132088 ], MSE = 43.97\n",
            "Iteration #450: W_new = [45.05863981  3.81319999], MSE = 43.97\n",
            "Iteration #460: W_new = [45.05868349  3.81319206], MSE = 43.97\n",
            "Iteration #470: W_new = [45.05872277  3.81318494], MSE = 43.97\n",
            "Iteration #480: W_new = [45.05875813  3.81317853], MSE = 43.97\n",
            "Iteration #490: W_new = [45.05878999  3.81317275], MSE = 43.97\n"
          ]
        }
      ],
      "source": [
        "n = X.shape[0]\n",
        "\n",
        "eta = 0.1 \n",
        "n_iter = 500\n",
        "\n",
        "W = np.array([1, 0.5])\n",
        "print(f'Number of objects = {n} \\\n",
        "       \\nLearning rate = {eta} \\\n",
        "       \\nInitial weights = {W} \\n')\n",
        "\n",
        "for i in range(n_iter):\n",
        "    y_pred = np.dot(X, W)\n",
        "    err = calc_mse(y, y_pred)\n",
        "#     for k in range(W.shape[0]):\n",
        "#         W[k] -= eta * (1/n * 2 * X[:, k] @ (y_pred - y))\n",
        "    # ИЗМЕНЕНИЯ\n",
        "    W -= eta * (1/n * 2 * np.dot(X.T, y_pred - y))      #ВМЕСТО МАТРИЦЫ Х ВЗЯЛА ТРАНСПОНИРОВАННУЮ Х\n",
        "    # # ИЗМЕНЕНИЯ\n",
        "    # #\n",
        "    if i % 10 == 0:\n",
        "        eta /= 1.1\n",
        "        print(f'Iteration #{i}: W_new = {W}, MSE = {round(err,2)}')"
      ]
    }
  ]
}