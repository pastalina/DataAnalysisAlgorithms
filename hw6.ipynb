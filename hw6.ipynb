{
  "nbformat": 4,
  "nbformat_minor": 0,
  "metadata": {
    "colab": {
      "name": "hw6.ipynb",
      "provenance": [],
      "collapsed_sections": []
    },
    "kernelspec": {
      "name": "python3",
      "display_name": "Python 3"
    },
    "language_info": {
      "name": "python"
    }
  },
  "cells": [
    {
      "cell_type": "markdown",
      "source": [
        "# **Домашнее задание 6**"
      ],
      "metadata": {
        "id": "fYfeoO6lt5PM"
      }
    },
    {
      "cell_type": "markdown",
      "source": [
        "1. Для реализованной модели градиентного бустинга построить графики зависимости ошибки от количества деревьев в ансамбле и от максимальной глубины деревьев. Сделать выводы о зависимости ошибки от этих параметров."
      ],
      "metadata": {
        "id": "jBOlIYeMuBhP"
      }
    },
    {
      "cell_type": "code",
      "execution_count": 11,
      "metadata": {
        "id": "Qk-74OFhbshx"
      },
      "outputs": [],
      "source": [
        "from sklearn import model_selection\n",
        "from sklearn.tree import DecisionTreeRegressor\n",
        "from sklearn.datasets import load_diabetes\n",
        "import matplotlib.pyplot as plt\n",
        "import numpy as np"
      ]
    },
    {
      "cell_type": "code",
      "execution_count": 12,
      "metadata": {
        "id": "leu8bBI7bsh6",
        "outputId": "9da6218b-368c-40b0-cfbe-b321b1127c9d",
        "colab": {
          "base_uri": "https://localhost:8080/"
        }
      },
      "outputs": [
        {
          "output_type": "execute_result",
          "data": {
            "text/plain": [
              "((442, 10), (442,))"
            ]
          },
          "metadata": {},
          "execution_count": 12
        }
      ],
      "source": [
        "X, y = load_diabetes(return_X_y=True)\n",
        "X.shape, y.shape"
      ]
    },
    {
      "cell_type": "code",
      "execution_count": 13,
      "metadata": {
        "id": "ExZPR9FLbsh9"
      },
      "outputs": [],
      "source": [
        "X_train, X_test, y_train, y_test = model_selection.train_test_split(X, y, test_size=0.25)"
      ]
    },
    {
      "cell_type": "code",
      "execution_count": 14,
      "metadata": {
        "id": "wU_Rkc63bsiA"
      },
      "outputs": [],
      "source": [
        "def gb_predict(X, trees_list, eta):\n",
        "    # Реализуемый алгоритм градиентного бустинга будет инициализироваться нулевыми значениями,\n",
        "    # поэтому все деревья из списка trees_list уже являются дополнительными и при предсказании\n",
        "    # прибавляются с шагом eta\n",
        "    \n",
        "#     predictions = np.zeros(X.shape[0])\n",
        "#     for i, x in enumerate(X):\n",
        "#         prediction = 0\n",
        "#         for alg in trees_list:\n",
        "#             prediction += eta * alg.predict([x])[0]\n",
        "#         predictions[i] = prediction\n",
        "        \n",
        "    predictions = np.array(\n",
        "        [sum([eta * alg.predict([x])[0] for alg in trees_list]) for x in X]\n",
        "    )\n",
        "\n",
        "    return predictions"
      ]
    },
    {
      "cell_type": "code",
      "execution_count": 15,
      "metadata": {
        "id": "0xbjFIEKbsiE"
      },
      "outputs": [],
      "source": [
        "def mean_squared_error(y_real, prediction):\n",
        "    return (sum((y_real - prediction)**2)) / len(y_real)"
      ]
    },
    {
      "cell_type": "code",
      "execution_count": 16,
      "metadata": {
        "id": "WRaZEd3ebsiI"
      },
      "outputs": [],
      "source": [
        "def residual(y, z):\n",
        "    return - (z - y)"
      ]
    },
    {
      "cell_type": "code",
      "execution_count": 17,
      "metadata": {
        "id": "HoIdAoPYbsiL"
      },
      "outputs": [],
      "source": [
        "def gb_fit(n_trees, max_depth, X_train, X_test, y_train, y_test, eta):\n",
        "    \n",
        "    # Деревья будем записывать в список\n",
        "    trees = []\n",
        "    \n",
        "    # Будем записывать ошибки на обучающей и тестовой выборке на каждой итерации в список\n",
        "    train_errors = []\n",
        "    test_errors = []\n",
        "    \n",
        "    for i in range(n_trees):\n",
        "        tree = DecisionTreeRegressor(max_depth=max_depth, random_state=42)\n",
        "\n",
        "        # первый алгоритм просто обучаем на выборке и добавляем в список\n",
        "        if len(trees) == 0:\n",
        "            # обучаем первое дерево на обучающей выборке\n",
        "            tree.fit(X_train, y_train)\n",
        "            \n",
        "            train_errors.append(mean_squared_error(y_train, gb_predict(X_train, trees, eta)))\n",
        "            test_errors.append(mean_squared_error(y_test, gb_predict(X_test, trees, eta)))\n",
        "        else:\n",
        "            # Получим ответы на текущей композиции\n",
        "            target = gb_predict(X_train, trees, eta)\n",
        "            \n",
        "            # алгоритмы начиная со второго обучаем на сдвиг\n",
        "            tree.fit(X_train, residual(y_train, target))\n",
        "            \n",
        "            train_errors.append(mean_squared_error(y_train, gb_predict(X_train, trees, eta)))\n",
        "            test_errors.append(mean_squared_error(y_test, gb_predict(X_test, trees, eta)))\n",
        "\n",
        "        trees.append(tree)\n",
        "        \n",
        "    return trees, train_errors, test_errors"
      ]
    },
    {
      "cell_type": "code",
      "source": [
        "def get_error_trees_plot(n_trees_list, train_err, test_err):\n",
        "    plt.xlabel('Tree number')\n",
        "    plt.ylabel('MSE')\n",
        "    plt.plot(list(range(n_trees)), train_err, label='train error')\n",
        "    plt.plot(list(range(n_trees)), test_err, label='test error')\n",
        "    plt.legend(loc='upper right')\n",
        "    plt.show()"
      ],
      "metadata": {
        "id": "wJ6tvdLXzHnP"
      },
      "execution_count": 25,
      "outputs": []
    },
    {
      "cell_type": "code",
      "source": [
        "def get_error_depth_plot(max_depth_list, train_err, test_err):\n",
        "    plt.xlabel('Max Depth')\n",
        "    plt.ylabel('MSE')\n",
        "    # plt.xlim(0, (max_depth + 1))\n",
        "    plt.plot(max_depth_list, train_errors_depth, label='train error')\n",
        "    plt.plot(max_depth_list, test_errors_depth, label='test error')\n",
        "    plt.show()"
      ],
      "metadata": {
        "id": "n9Ia93kug3FY"
      },
      "execution_count": 19,
      "outputs": []
    },
    {
      "cell_type": "markdown",
      "source": [
        "Построим график зависимости величины ошибки от количества деревьев в ансамбле:"
      ],
      "metadata": {
        "id": "Ci6f39f900eF"
      }
    },
    {
      "cell_type": "code",
      "source": [
        "# Число деревьев в ансамбле\n",
        "n_trees_list = [_ for _ in range(1, 16)]\n",
        "\n",
        "# Максимальная глубина деревьев\n",
        "max_depth = 3\n",
        "\n",
        "# Шаг\n",
        "eta = 0.1\n",
        "\n",
        "train_errors_trees = []\n",
        "test_errors_trees = []\n",
        "for n_trees in n_trees_list:\n",
        "    trees, train_errors, test_errors = gb_fit(n_trees, max_depth, X_train, X_test, y_train, y_test, eta)\n",
        "    train_errors_trees.append(train_errors)\n",
        "    test_errors_trees.append(test_errors)\n",
        "get_error_trees_plot(n_trees_list, train_errors, test_errors)"
      ],
      "metadata": {
        "colab": {
          "base_uri": "https://localhost:8080/",
          "height": 279
        },
        "id": "ZgRcoKzfzQuh",
        "outputId": "33fbdf88-7384-4e33-aeaa-2807e9214b4e"
      },
      "execution_count": 26,
      "outputs": [
        {
          "output_type": "display_data",
          "data": {
            "image/png": "[encoded data removed]",
            "text/plain": [
              "<Figure size 432x288 with 1 Axes>"
            ]
          },
          "metadata": {
            "needs_background": "light"
          }
        }
      ]
    },
    {
      "cell_type": "markdown",
      "source": [
        "Вывод: при обучении модели градиентного бустинга с увеличением количества деревьев в ансамбле переобучение практически не происходит, ошибка быстро уменьшается и на трейне и на тесте (на трейне чуть быстрее с увеличением количества деревьев)."
      ],
      "metadata": {
        "id": "VgN9nLys1Mj9"
      }
    },
    {
      "cell_type": "markdown",
      "source": [
        "Построим график зависимости величины ошибки от величины максимальной глубины дереьев в ансамбле:"
      ],
      "metadata": {
        "id": "jrVMBK6R6Iqx"
      }
    },
    {
      "cell_type": "code",
      "execution_count": 22,
      "metadata": {
        "id": "2WvxluSlbsiO",
        "colab": {
          "base_uri": "https://localhost:8080/",
          "height": 279
        },
        "outputId": "50a62f31-8469-4d5e-9212-9f15c8e0b8b6"
      },
      "outputs": [
        {
          "output_type": "display_data",
          "data": {
            "image/png": "[encoded data removed]",
            "text/plain": [
              "<Figure size 432x288 with 1 Axes>"
            ]
          },
          "metadata": {
            "needs_background": "light"
          }
        }
      ],
      "source": [
        "# Число деревьев в ансамбле\n",
        "n_trees = 16\n",
        "\n",
        "# Максимальная глубина деревьев\n",
        "max_depth_list = [_ for _ in range(1, 16)]\n",
        "\n",
        "# Шаг\n",
        "eta = 0.1\n",
        "\n",
        "train_errors_depth = []\n",
        "test_errors_depth = []\n",
        "for max_depth in max_depth_list:\n",
        "    trees, train_errors, test_errors = gb_fit(n_trees, max_depth, X_train, X_test, y_train, y_test, eta)\n",
        "    train_errors_depth.append(train_errors[n_trees - 1])\n",
        "    test_errors_depth.append(test_errors[n_trees - 1])\n",
        "get_error_depth_plot(max_depth_list, train_errors, test_errors)"
      ]
    },
    {
      "cell_type": "markdown",
      "source": [
        "Вывод: при обучении модели градиентного бустинга с увеличением максимальной глубины в деревьях ансамбля происходит переобучение (в данном случае, оптимальной глубиной будет 2)."
      ],
      "metadata": {
        "id": "Kg-zHYs33WFZ"
      }
    }
  ]
}