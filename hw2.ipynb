{
  "nbformat": 4,
  "nbformat_minor": 0,
  "metadata": {
    "colab": {
      "name": "hw2.ipynb",
      "provenance": [],
      "collapsed_sections": []
    },
    "kernelspec": {
      "name": "python3",
      "display_name": "Python 3"
    },
    "language_info": {
      "name": "python"
    }
  },
  "cells": [
    {
      "cell_type": "markdown",
      "source": [
        "# **Домашнее задание 2**"
      ],
      "metadata": {
        "id": "A8Pd-_aKl0hd"
      }
    },
    {
      "cell_type": "markdown",
      "source": [
        "1. Постройте график зависимости весов всех признаков от lambda в самописной L2-регуляризации (на данных про ЕГЭ). Сделайте вывод."
      ],
      "metadata": {
        "id": "zOJ4ewUvl_bU"
      }
    },
    {
      "cell_type": "code",
      "source": [
        "import numpy as np\n",
        "import matplotlib.pyplot as plt\n",
        "from mpl_toolkits.mplot3d.axes3d import Axes3D\n",
        "\n",
        "%matplotlib inline\n",
        "import warnings\n",
        "warnings.filterwarnings('ignore')"
      ],
      "metadata": {
        "id": "hBmOT8Fpmcz8"
      },
      "execution_count": 1,
      "outputs": []
    },
    {
      "cell_type": "code",
      "source": [
        "X = np.array([[   1,    1,  500,    1],\n",
        "              [   1,    1,  700,    1],\n",
        "              [   1,    2,  750,    2],\n",
        "              [   1,    5,  600,    1],\n",
        "              [   1,    3, 1450,    2],\n",
        "              [   1,    0,  800,    1],\n",
        "              [   1,    5, 1500,    3],\n",
        "              [   1,   10, 2000,    3],\n",
        "              [   1,    1,  450,    1],\n",
        "              [   1,    2, 1000,    2]])\n",
        "\n",
        "y = [45, 55, 50, 55, 60, 35, 75, 80, 50, 60]"
      ],
      "metadata": {
        "id": "yDqL6M_Imscl"
      },
      "execution_count": 3,
      "outputs": []
    },
    {
      "cell_type": "code",
      "source": [
        "def min_max_scale(X):\n",
        "    return (X - X.min()) / (X.max() - X.min())\n",
        "    \n",
        "\n",
        "def standard_scale(X):\n",
        "    mean = X.mean()\n",
        "    std = X.std()\n",
        "    return (X - mean) / std"
      ],
      "metadata": {
        "id": "ST0CKCYgjdDH"
      },
      "execution_count": 4,
      "outputs": []
    },
    {
      "cell_type": "code",
      "source": [
        "X_norm = X.copy().astype(np.float64)\n",
        "X_norm[:, 1] = min_max_scale(X_norm[:, 1])\n",
        "X_norm[:, 2] = min_max_scale(X_norm[:, 2])\n",
        "X_norm[:, 3] = min_max_scale(X_norm[:, 3])\n",
        "X_norm"
      ],
      "metadata": {
        "colab": {
          "base_uri": "https://localhost:8080/"
        },
        "id": "8rzzECusQbG_",
        "outputId": "8903b421-3b49-4e34-e1a5-899f166942e7"
      },
      "execution_count": 5,
      "outputs": [
        {
          "output_type": "execute_result",
          "data": {
            "text/plain": [
              "array([[1.        , 0.1       , 0.03225806, 0.        ],\n",
              "       [1.        , 0.1       , 0.16129032, 0.        ],\n",
              "       [1.        , 0.2       , 0.19354839, 0.5       ],\n",
              "       [1.        , 0.5       , 0.09677419, 0.        ],\n",
              "       [1.        , 0.3       , 0.64516129, 0.5       ],\n",
              "       [1.        , 0.        , 0.22580645, 0.        ],\n",
              "       [1.        , 0.5       , 0.67741935, 1.        ],\n",
              "       [1.        , 1.        , 1.        , 1.        ],\n",
              "       [1.        , 0.1       , 0.        , 0.        ],\n",
              "       [1.        , 0.2       , 0.35483871, 0.5       ]])"
            ]
          },
          "metadata": {},
          "execution_count": 5
        }
      ]
    },
    {
      "cell_type": "code",
      "source": [
        "X_st = X.copy().astype(np.float64)\n",
        "X_st[:, 1] = standard_scale(X_st[:, 1])\n",
        "X_st[:, 2] = standard_scale(X_st[:, 2])\n",
        "X_st[:, 3] = standard_scale(X_st[:, 3])\n",
        "\n",
        "X_st"
      ],
      "metadata": {
        "colab": {
          "base_uri": "https://localhost:8080/"
        },
        "id": "l2h9mX26jeUR",
        "outputId": "a6db0155-f5a7-4a81-c6c2-23b28bdf0ae4"
      },
      "execution_count": 6,
      "outputs": [
        {
          "output_type": "execute_result",
          "data": {
            "text/plain": [
              "array([[ 1.        , -0.70710678, -0.97958969, -0.89625816],\n",
              "       [ 1.        , -0.70710678, -0.56713087, -0.89625816],\n",
              "       [ 1.        , -0.35355339, -0.46401617,  0.38411064],\n",
              "       [ 1.        ,  0.70710678, -0.77336028, -0.89625816],\n",
              "       [ 1.        ,  0.        ,  0.97958969,  0.38411064],\n",
              "       [ 1.        , -1.06066017, -0.36090146, -0.89625816],\n",
              "       [ 1.        ,  0.70710678,  1.08270439,  1.66447944],\n",
              "       [ 1.        ,  2.47487373,  2.11385144,  1.66447944],\n",
              "       [ 1.        , -0.70710678, -1.08270439, -0.89625816],\n",
              "       [ 1.        , -0.35355339,  0.05155735,  0.38411064]])"
            ]
          },
          "metadata": {},
          "execution_count": 6
        }
      ]
    },
    {
      "cell_type": "code",
      "source": [
        "def gradient_descent_reg_l2(X, y, iterations, eta=1e-4, reg=1e-8):\n",
        "    W = np.random.randn(X.shape[1])\n",
        "    n = X.shape[0]\n",
        "    \n",
        "    for i in range(0, iterations):\n",
        "        y_pred = np.dot(X, W)\n",
        "        err = calc_mse(y, y_pred)\n",
        "        \n",
        "        dQ = 2/n * X.T @ (y_pred - y) # градиент функции ошибки\n",
        "        dReg = reg * W # градиент регуляризации\n",
        "        \n",
        "        W -= eta * (dQ + dReg)\n",
        "        \n",
        "        # if i % (iterations / 10) == 0:\n",
        "        #     print(f'Iter: {i}, weights: {W}, error {err}')\n",
        "    \n",
        "    # print(f'Final MSE: {calc_mse(y, np.dot(X, W))}')\n",
        "    return W\n",
        "\n",
        "\n",
        "def calc_mse(y, y_pred):\n",
        "    err = np.mean((y - y_pred)**2)\n",
        "    return err"
      ],
      "metadata": {
        "id": "qjIUi5GcHY6J"
      },
      "execution_count": 7,
      "outputs": []
    },
    {
      "cell_type": "code",
      "source": [
        "n = 50\n",
        "train_amount = 5\n",
        "train_X = X[:train_amount]\n",
        "train_y = y[:train_amount]\n",
        "test_X = X[train_amount:]\n",
        "test_y = y[train_amount:]\n",
        "\n",
        "coeffs = np.zeros((n, train_X.shape[1]))\n",
        "alpha_list = np.logspace(-3, 2, n)\n",
        "\n",
        "for i, val in enumerate(alpha_list):\n",
        "    coeffs[i, :] = gradient_descent_reg_l2(X_st, y, iterations=5000, eta=0.01, reg=val)\n",
        "\n",
        "for i in range(train_X.shape[1]):\n",
        "    plt.plot(alpha_list, coeffs[:, i])\n",
        "\n",
        "plt.title('Убывание абсолютных значений весов признаков\\n при увеличении коэффициента регуляризации alpha')\n",
        "plt.xticks(np.arange(0, 101, 10))\n",
        "plt.ylim(0, 10)\n",
        "plt.legend(('W1', 'W2', 'W3', 'W4'))\n",
        "plt.xlabel('alpha')\n",
        "plt.ylabel('Вес признака');"
      ],
      "metadata": {
        "id": "tgy-Z8HBHHdL",
        "colab": {
          "base_uri": "https://localhost:8080/",
          "height": 310
        },
        "outputId": "42c1f69d-0902-4d82-d1ef-65e2ebe23274"
      },
      "execution_count": 44,
      "outputs": [
        {
          "output_type": "display_data",
          "data": {
            "image/png": "[encoded data removed]",
            "text/plain": [
              "<Figure size 432x288 with 1 Axes>"
            ]
          },
          "metadata": {
            "needs_background": "light"
          }
        }
      ]
    },
    {
      "cell_type": "markdown",
      "source": [
        "Вывод: веса 1го и 3го признаков примерно одинаковые. С увеличением коэффициента регуляризации вес 2го признака становится примерно равным весам 1го и 3го признаков."
      ],
      "metadata": {
        "id": "GL0k3KavB_S0"
      }
    },
    {
      "cell_type": "markdown",
      "source": [
        "2. Напишите функцию наподобие gradient_descent_reg_l2, но для применения L1-регуляризации."
      ],
      "metadata": {
        "id": "MiwuO_YIXwIb"
      }
    },
    {
      "cell_type": "code",
      "source": [
        "def gradient_descent_reg_l1(X, y, iterations, eta=1e-4, reg=1e-8):\n",
        "    W = np.random.randn(X.shape[1])\n",
        "    n = X.shape[0]\n",
        "    \n",
        "    for i in range(0, iterations):\n",
        "        y_pred = np.dot(X, W)\n",
        "        err = calc_mse(y, y_pred)\n",
        "        \n",
        "        dQ = 2/n * X.T @ (y_pred - y) # градиент функции ошибки\n",
        "        dReg = reg * W / abs(W) # градиент регуляризации                #ИЗМЕНЕНИЕ\n",
        "        \n",
        "        W -= eta * (dQ + dReg)\n",
        "        \n",
        "        if i % (iterations / 10) == 0:\n",
        "            print(f'Iter: {i}, weights: {W}, error {err}')\n",
        "    \n",
        "    print(f'Final MSE: {calc_mse(y, np.dot(X, W))}')\n",
        "    return W"
      ],
      "metadata": {
        "id": "puK209FfXy1u"
      },
      "execution_count": 9,
      "outputs": []
    },
    {
      "cell_type": "code",
      "source": [
        "gradient_descent_reg_l1(X_st, y, iterations=5000, eta=1e-1, reg=1e-4)"
      ],
      "metadata": {
        "colab": {
          "base_uri": "https://localhost:8080/"
        },
        "id": "d5jNfPn6X8_9",
        "outputId": "e7be2e96-af23-404e-da3d-d51029a17454"
      },
      "execution_count": 10,
      "outputs": [
        {
          "output_type": "stream",
          "name": "stdout",
          "text": [
            "Iter: 0, weights: [12.09542105  2.08891508  2.98653665  1.45203264], error 3236.1502284278295\n",
            "Iter: 500, weights: [56.49995     6.30285762 -0.35563124  6.57090844], error 24.904618979480926\n",
            "Iter: 1000, weights: [56.49995     6.30289122 -0.35579345  6.57104233], error 24.904618940997295\n",
            "Iter: 1500, weights: [56.49995     6.30289122 -0.35579346  6.57104233], error 24.904618940996173\n",
            "Iter: 2000, weights: [56.49995     6.30289122 -0.35579346  6.57104233], error 24.904618940996166\n",
            "Iter: 2500, weights: [56.49995     6.30289122 -0.35579346  6.57104233], error 24.904618940996166\n",
            "Iter: 3000, weights: [56.49995     6.30289122 -0.35579346  6.57104233], error 24.904618940996166\n",
            "Iter: 3500, weights: [56.49995     6.30289122 -0.35579346  6.57104233], error 24.904618940996166\n",
            "Iter: 4000, weights: [56.49995     6.30289122 -0.35579346  6.57104233], error 24.904618940996166\n",
            "Iter: 4500, weights: [56.49995     6.30289122 -0.35579346  6.57104233], error 24.904618940996166\n",
            "Final MSE: 24.904618940996166\n"
          ]
        },
        {
          "output_type": "execute_result",
          "data": {
            "text/plain": [
              "array([56.49995   ,  6.30289122, -0.35579346,  6.57104233])"
            ]
          },
          "metadata": {},
          "execution_count": 10
        }
      ]
    }
  ]
}